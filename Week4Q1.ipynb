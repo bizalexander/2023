{
 "cells": [
  {
   "cell_type": "code",
   "execution_count": 1,
   "id": "e26cc085",
   "metadata": {},
   "outputs": [],
   "source": [
    "# import library\n",
    "import pandas as pd\n",
    "import numpy as np\n",
    "import warnings\n",
    "import math"
   ]
  },
  {
   "cell_type": "code",
   "execution_count": 2,
   "id": "bc17ed00",
   "metadata": {},
   "outputs": [
    {
     "data": {
      "text/plain": [
       "(483, 82)"
      ]
     },
     "execution_count": 2,
     "metadata": {},
     "output_type": "execute_result"
    }
   ],
   "source": [
    "# import data\n",
    "warnings.filterwarnings(\"ignore\")\n",
    "data = pd.read_csv(\"C:/Users/alexa/Downloads/D483.csv\",low_memory=True, encoding='unicode_escape')\n",
    "data.shape"
   ]
  },
  {
   "cell_type": "code",
   "execution_count": 3,
   "id": "7934e1ab",
   "metadata": {},
   "outputs": [
    {
     "data": {
      "text/html": [
       "<div>\n",
       "<style scoped>\n",
       "    .dataframe tbody tr th:only-of-type {\n",
       "        vertical-align: middle;\n",
       "    }\n",
       "\n",
       "    .dataframe tbody tr th {\n",
       "        vertical-align: top;\n",
       "    }\n",
       "\n",
       "    .dataframe thead th {\n",
       "        text-align: right;\n",
       "    }\n",
       "</style>\n",
       "<table border=\"1\" class=\"dataframe\">\n",
       "  <thead>\n",
       "    <tr style=\"text-align: right;\">\n",
       "      <th></th>\n",
       "      <th>TestResult</th>\n",
       "      <th>pub</th>\n",
       "      <th>WhytestedOther</th>\n",
       "      <th>Flutest</th>\n",
       "      <th>symptoms</th>\n",
       "      <th>symptomsresp</th>\n",
       "      <th>symptomsconsresp</th>\n",
       "      <th>symptomsgastro</th>\n",
       "      <th>symptomsconsgastro</th>\n",
       "      <th>symptomsneuro</th>\n",
       "      <th>...</th>\n",
       "      <th>explasttime4=publictrans</th>\n",
       "      <th>explasttime5=airplane</th>\n",
       "      <th>explasttime6=cruise</th>\n",
       "      <th>explasttime7=barcaferest</th>\n",
       "      <th>explasttime8=grocery</th>\n",
       "      <th>explasttime9=retail</th>\n",
       "      <th>explasttime10=visit</th>\n",
       "      <th>explasttime11=gym_team</th>\n",
       "      <th>explasttime12=rlgssvc</th>\n",
       "      <th>explasttime13=hcp</th>\n",
       "    </tr>\n",
       "  </thead>\n",
       "  <tbody>\n",
       "    <tr>\n",
       "      <th>0</th>\n",
       "      <td>Yes, and I tested negative</td>\n",
       "      <td>I came into contact with someone who has the c...</td>\n",
       "      <td>NaN</td>\n",
       "      <td>No, I have not been tested</td>\n",
       "      <td>None</td>\n",
       "      <td>None</td>\n",
       "      <td>NaN</td>\n",
       "      <td>None</td>\n",
       "      <td>NaN</td>\n",
       "      <td>None</td>\n",
       "      <td>...</td>\n",
       "      <td>Mid March to May 2020</td>\n",
       "      <td>Mid March to May 2020</td>\n",
       "      <td>Mid March to May 2020</td>\n",
       "      <td>More recently</td>\n",
       "      <td>More recently</td>\n",
       "      <td>More recently</td>\n",
       "      <td>More recently</td>\n",
       "      <td>Mid March to May 2020</td>\n",
       "      <td>More recently</td>\n",
       "      <td>August/September 2020</td>\n",
       "    </tr>\n",
       "    <tr>\n",
       "      <th>1</th>\n",
       "      <td>Yes, and I tested negative</td>\n",
       "      <td>I came into contact with someone who has the c...</td>\n",
       "      <td>NaN</td>\n",
       "      <td>Yes, and I tested negative</td>\n",
       "      <td>None</td>\n",
       "      <td>None</td>\n",
       "      <td>NaN</td>\n",
       "      <td>None</td>\n",
       "      <td>NaN</td>\n",
       "      <td>None</td>\n",
       "      <td>...</td>\n",
       "      <td>Feb. to early March 2020 or before</td>\n",
       "      <td>Feb. to early March 2020 or before</td>\n",
       "      <td>Never</td>\n",
       "      <td>More recently</td>\n",
       "      <td>More recently</td>\n",
       "      <td>More recently</td>\n",
       "      <td>More recently</td>\n",
       "      <td>Feb. to early March 2020 or before</td>\n",
       "      <td>More recently</td>\n",
       "      <td>August/September 2020</td>\n",
       "    </tr>\n",
       "    <tr>\n",
       "      <th>2</th>\n",
       "      <td>Yes, and I tested positive</td>\n",
       "      <td>I came into contact with someone who has the c...</td>\n",
       "      <td>NaN</td>\n",
       "      <td>No, I have not been tested</td>\n",
       "      <td>Fatigue (more than normal)</td>\n",
       "      <td>Sore throat</td>\n",
       "      <td>No</td>\n",
       "      <td>Diarrhea</td>\n",
       "      <td>No</td>\n",
       "      <td>Headaches</td>\n",
       "      <td>...</td>\n",
       "      <td>Feb. to early March 2020 or before</td>\n",
       "      <td>Feb. to early March 2020 or before</td>\n",
       "      <td>Feb. to early March 2020 or before</td>\n",
       "      <td>More recently</td>\n",
       "      <td>More recently</td>\n",
       "      <td>August/September 2020</td>\n",
       "      <td>More recently</td>\n",
       "      <td>Feb. to early March 2020 or before</td>\n",
       "      <td>August/September 2020</td>\n",
       "      <td>More recently</td>\n",
       "    </tr>\n",
       "    <tr>\n",
       "      <th>3</th>\n",
       "      <td>Yes, and I tested negative</td>\n",
       "      <td>I came into contact with someone who has the c...</td>\n",
       "      <td>NaN</td>\n",
       "      <td>No, I have not been tested</td>\n",
       "      <td>NaN</td>\n",
       "      <td>Runny nose,Sore throat</td>\n",
       "      <td>Yes</td>\n",
       "      <td>Diarrhea,Stomach or abdominal pain</td>\n",
       "      <td>Yes</td>\n",
       "      <td>Headaches</td>\n",
       "      <td>...</td>\n",
       "      <td>Mid March to May 2020</td>\n",
       "      <td>Mid March to May 2020</td>\n",
       "      <td>NaN</td>\n",
       "      <td>August/September 2020</td>\n",
       "      <td>More recently</td>\n",
       "      <td>June/July 2020</td>\n",
       "      <td>August/September 2020</td>\n",
       "      <td>Mid March to May 2020</td>\n",
       "      <td>Mid March to May 2020</td>\n",
       "      <td>August/September 2020</td>\n",
       "    </tr>\n",
       "    <tr>\n",
       "      <th>4</th>\n",
       "      <td>Yes, and I tested negative</td>\n",
       "      <td>I came into contact with someone who has the c...</td>\n",
       "      <td>NaN</td>\n",
       "      <td>No, I have not been tested</td>\n",
       "      <td>None</td>\n",
       "      <td>Sore throat</td>\n",
       "      <td>No</td>\n",
       "      <td>Stomach or abdominal pain</td>\n",
       "      <td>No</td>\n",
       "      <td>None</td>\n",
       "      <td>...</td>\n",
       "      <td>Feb. to early March 2020 or before</td>\n",
       "      <td>Never</td>\n",
       "      <td>Never</td>\n",
       "      <td>More recently</td>\n",
       "      <td>More recently</td>\n",
       "      <td>More recently</td>\n",
       "      <td>More recently</td>\n",
       "      <td>June/July 2020</td>\n",
       "      <td>Feb. to early March 2020 or before</td>\n",
       "      <td>Feb. to early March 2020 or before</td>\n",
       "    </tr>\n",
       "  </tbody>\n",
       "</table>\n",
       "<p>5 rows × 82 columns</p>\n",
       "</div>"
      ],
      "text/plain": [
       "                   TestResult  \\\n",
       "0  Yes, and I tested negative   \n",
       "1  Yes, and I tested negative   \n",
       "2  Yes, and I tested positive   \n",
       "3  Yes, and I tested negative   \n",
       "4  Yes, and I tested negative   \n",
       "\n",
       "                                                 pub WhytestedOther  \\\n",
       "0  I came into contact with someone who has the c...            NaN   \n",
       "1  I came into contact with someone who has the c...            NaN   \n",
       "2  I came into contact with someone who has the c...            NaN   \n",
       "3  I came into contact with someone who has the c...            NaN   \n",
       "4  I came into contact with someone who has the c...            NaN   \n",
       "\n",
       "                      Flutest                    symptoms  \\\n",
       "0  No, I have not been tested                        None   \n",
       "1  Yes, and I tested negative                        None   \n",
       "2  No, I have not been tested  Fatigue (more than normal)   \n",
       "3  No, I have not been tested                         NaN   \n",
       "4  No, I have not been tested                        None   \n",
       "\n",
       "             symptomsresp symptomsconsresp  \\\n",
       "0                    None              NaN   \n",
       "1                    None              NaN   \n",
       "2             Sore throat               No   \n",
       "3  Runny nose,Sore throat              Yes   \n",
       "4             Sore throat               No   \n",
       "\n",
       "                       symptomsgastro symptomsconsgastro symptomsneuro  ...  \\\n",
       "0                                None                NaN          None  ...   \n",
       "1                                None                NaN          None  ...   \n",
       "2                            Diarrhea                 No     Headaches  ...   \n",
       "3  Diarrhea,Stomach or abdominal pain                Yes     Headaches  ...   \n",
       "4           Stomach or abdominal pain                 No          None  ...   \n",
       "\n",
       "             explasttime4=publictrans               explasttime5=airplane  \\\n",
       "0               Mid March to May 2020               Mid March to May 2020   \n",
       "1  Feb. to early March 2020 or before  Feb. to early March 2020 or before   \n",
       "2  Feb. to early March 2020 or before  Feb. to early March 2020 or before   \n",
       "3               Mid March to May 2020               Mid March to May 2020   \n",
       "4  Feb. to early March 2020 or before                               Never   \n",
       "\n",
       "                  explasttime6=cruise explasttime7=barcaferest  \\\n",
       "0               Mid March to May 2020            More recently   \n",
       "1                               Never            More recently   \n",
       "2  Feb. to early March 2020 or before            More recently   \n",
       "3                                 NaN    August/September 2020   \n",
       "4                               Never            More recently   \n",
       "\n",
       "  explasttime8=grocery    explasttime9=retail    explasttime10=visit  \\\n",
       "0        More recently          More recently          More recently   \n",
       "1        More recently          More recently          More recently   \n",
       "2        More recently  August/September 2020          More recently   \n",
       "3        More recently         June/July 2020  August/September 2020   \n",
       "4        More recently          More recently          More recently   \n",
       "\n",
       "               explasttime11=gym_team               explasttime12=rlgssvc  \\\n",
       "0               Mid March to May 2020                       More recently   \n",
       "1  Feb. to early March 2020 or before                       More recently   \n",
       "2  Feb. to early March 2020 or before               August/September 2020   \n",
       "3               Mid March to May 2020               Mid March to May 2020   \n",
       "4                      June/July 2020  Feb. to early March 2020 or before   \n",
       "\n",
       "                    explasttime13=hcp  \n",
       "0               August/September 2020  \n",
       "1               August/September 2020  \n",
       "2                       More recently  \n",
       "3               August/September 2020  \n",
       "4  Feb. to early March 2020 or before  \n",
       "\n",
       "[5 rows x 82 columns]"
      ]
     },
     "execution_count": 3,
     "metadata": {},
     "output_type": "execute_result"
    }
   ],
   "source": [
    "data.head()"
   ]
  },
  {
   "cell_type": "code",
   "execution_count": 4,
   "id": "e2e69e07",
   "metadata": {},
   "outputs": [],
   "source": [
    "# Select columns: Demographics, symptoms, history, and test results\n",
    "data = data[data['TestResult'].isin(['Yes, and I tested negative','Yes, and I tested positive'])][['TestResult',\n",
    "            'symptomsfirst','symptoms','symptomsresp','symptomsgastro','symptomsneuro'\n",
    "            ,'symptomsinflamm'\n",
    "            ,'age'\n",
    "            ,'Ethnicity'\n",
    "            ,'Race', 'gender'\n",
    "            ,'symptomsconsresp', 'symptomsconsgastro', 'symptomsconsneuro'\n",
    "            ,'symptomsconsinflamm'\n",
    "            ]]"
   ]
  },
  {
   "cell_type": "code",
   "execution_count": 5,
   "id": "c585f58d",
   "metadata": {},
   "outputs": [],
   "source": [
    "# convert the test result into numarical values (1: positive, 0: negative)\n",
    "data['TestPositive'] = data['TestResult'].map({'Yes, and I tested positive': 1, 'Yes, and I tested negative': 0})"
   ]
  },
  {
   "cell_type": "code",
   "execution_count": 6,
   "id": "aeda8c05",
   "metadata": {},
   "outputs": [
    {
     "data": {
      "text/plain": [
       "(461, 16)"
      ]
     },
     "execution_count": 6,
     "metadata": {},
     "output_type": "execute_result"
    }
   ],
   "source": [
    "# Numbere of rows and columns\n",
    "data.shape"
   ]
  },
  {
   "cell_type": "code",
   "execution_count": 7,
   "id": "b452c240",
   "metadata": {},
   "outputs": [],
   "source": [
    "# convert history columns to numarical values (1: yes, 0: no or not sure)\n",
    "data['IgnoreRespSymp']   = data['symptomsconsresp'].map(   {'Yes': 1, 'No': 0, 'Not sure' : 0, np.nan: 0})\n",
    "data['IgnoreGastroSymp'] = data['symptomsconsgastro'].map( {'Yes': 1, 'No': 0, 'Not sure' : 0, np.nan: 0})\n",
    "data['IgnoreNeuroSymp']  = data['symptomsconsneuro'].map(  {'Yes': 1, 'No': 0, 'Not sure' : 0, np.nan: 0})\n",
    "data['IgnoreInflamSymp'] = data['symptomsconsinflamm'].map({'Yes': 1, 'No': 0, 'Not sure' : 0, np.nan: 0})"
   ]
  },
  {
   "cell_type": "code",
   "execution_count": 8,
   "id": "d3ff60c5",
   "metadata": {},
   "outputs": [],
   "source": [
    "# compind all symptoms\n",
    "data['symptoms_concat'] = data[['symptoms','symptomsresp','symptomsgastro','symptomsneuro',\n",
    "                                'symptomsinflamm']].astype(str).apply(','.join, axis=1)"
   ]
  },
  {
   "cell_type": "code",
   "execution_count": 9,
   "id": "f165250b",
   "metadata": {},
   "outputs": [],
   "source": [
    "data = data.fillna('NaN')"
   ]
  },
  {
   "cell_type": "code",
   "execution_count": 10,
   "id": "047497fe",
   "metadata": {},
   "outputs": [],
   "source": [
    "# select columns \n",
    "data = data[['TestPositive',\n",
    "             'symptomsfirst','symptoms_concat'\n",
    "             , 'age'\n",
    "             ,'Ethnicity'\n",
    "             , 'Race', 'gender'\n",
    "            , 'IgnoreRespSymp', 'IgnoreGastroSymp', 'IgnoreNeuroSymp', 'IgnoreInflamSymp'\n",
    "            ]]"
   ]
  },
  {
   "cell_type": "code",
   "execution_count": 11,
   "id": "9455b578",
   "metadata": {},
   "outputs": [
    {
     "data": {
      "text/plain": [
       "29"
      ]
     },
     "execution_count": 11,
     "metadata": {},
     "output_type": "execute_result"
    }
   ],
   "source": [
    "# Identify the list of symptom from \"symptoms_concat\" column\n",
    "symptoms = list(set((','.join(data['symptoms_concat'].values.tolist())).split(\",\")))\n",
    "symptoms = [sub.split(\" (\")[0] for sub in symptoms]\n",
    "\n",
    "symptoms.remove('None')\n",
    "symptoms.remove('None or I did not get tested')\n",
    "symptoms.remove('nan')\n",
    "    \n",
    "len(symptoms)"
   ]
  },
  {
   "cell_type": "code",
   "execution_count": 12,
   "id": "ba15e427",
   "metadata": {},
   "outputs": [],
   "source": [
    "# binarizing symptoms\n",
    "for s in symptoms:\n",
    "    data[s.lower()] = pd.np.where(data.symptoms_concat.str.contains(s), 1,0)"
   ]
  },
  {
   "cell_type": "code",
   "execution_count": 13,
   "id": "30e2025c",
   "metadata": {},
   "outputs": [
    {
     "data": {
      "text/plain": [
       "Index(['TestPositive', 'symptomsfirst', 'symptoms_concat', 'age', 'Ethnicity',\n",
       "       'Race', 'gender', 'IgnoreRespSymp', 'IgnoreGastroSymp',\n",
       "       'IgnoreNeuroSymp', 'IgnoreInflamSymp', 'loss of taste', 'loss of smell',\n",
       "       'new confusion', 'unexplained rashes anywhere else',\n",
       "       'change in or loss of appetite',\n",
       "       'any tingling/numbness/swelling in hands or feet', 'loss of balance',\n",
       "       'joint or any other unexplained pain', 'fatigue', 'diarrhea',\n",
       "       'runny nose', 'chest pain', 'muscle aches', 'pinkeye or conjunctivitis',\n",
       "       'red or purple rash or lesions on your toes', 'nausea or vomiting',\n",
       "       'chills', 'shortness of breath', 'slurred speech',\n",
       "       'bluish lips or face', 'fever or feeling feverish', 'headaches',\n",
       "       'excessive sweating', 'difficulty breathing',\n",
       "       'unusual shivering or shaking', 'stomach or abdominal pain',\n",
       "       'sore throat', 'wheezing', 'cough'],\n",
       "      dtype='object')"
      ]
     },
     "execution_count": 13,
     "metadata": {},
     "output_type": "execute_result"
    }
   ],
   "source": [
    "data.columns"
   ]
  },
  {
   "cell_type": "code",
   "execution_count": 14,
   "id": "5fa23ff5",
   "metadata": {},
   "outputs": [
    {
     "data": {
      "text/plain": [
       "(461, 40)"
      ]
     },
     "execution_count": 14,
     "metadata": {},
     "output_type": "execute_result"
    }
   ],
   "source": [
    "data.shape"
   ]
  },
  {
   "cell_type": "code",
   "execution_count": 15,
   "id": "28ce21e4",
   "metadata": {},
   "outputs": [],
   "source": [
    "# Convert age into 2 categories\n",
    "data['Age 30 and over'] = np.where(data['age']>= 30, 1, 0)\n",
    "data['Age 18 to 29'] = np.where(data['age']< 30, 1, 0)\n",
    "\n",
    "data = data.drop(columns=[ 'age'])"
   ]
  },
  {
   "cell_type": "code",
   "execution_count": 16,
   "id": "e25b4469",
   "metadata": {},
   "outputs": [
    {
     "data": {
      "text/plain": [
       "White                                                               364\n",
       "Black or African American                                            59\n",
       "Asian                                                                21\n",
       "American Indian or Alaska Native                                      5\n",
       "Native Hawaiian or Other Pacific Islander                             4\n",
       "Other, please specify:                                                3\n",
       "White,Black or African American                                       2\n",
       "White,Black or African American,American Indian or Alaska Native      1\n",
       "White,Other, please specify:                                          1\n",
       "White,Asian,Native Hawaiian or Other Pacific Islander                 1\n",
       "Name: Race, dtype: int64"
      ]
     },
     "execution_count": 16,
     "metadata": {},
     "output_type": "execute_result"
    }
   ],
   "source": [
    "data['Race'].value_counts()"
   ]
  },
  {
   "cell_type": "code",
   "execution_count": 17,
   "id": "08eb00d8",
   "metadata": {},
   "outputs": [],
   "source": [
    "# Get dummies for arace, eethnicity, and gender\n",
    "data = pd.get_dummies(data, columns=['Race', 'Ethnicity', 'gender'])\n",
    "data = data.drop(columns=['Race_Other, please specify:', 'Ethnicity_Unknown', 'gender_Other', \n",
    "                          'Race_White,Other, please specify:'])"
   ]
  },
  {
   "cell_type": "code",
   "execution_count": 18,
   "id": "356304f3",
   "metadata": {},
   "outputs": [],
   "source": [
    "# select list of columns\n",
    "cols = list(data.columns)\n",
    "cols = [e for e in cols if e not in ('symptoms_concat', 'symptomsfirst', 'TestPositive')]"
   ]
  },
  {
   "cell_type": "code",
   "execution_count": 19,
   "id": "6d12d90e",
   "metadata": {},
   "outputs": [
    {
     "data": {
      "text/plain": [
       "['IgnoreRespSymp',\n",
       " 'IgnoreGastroSymp',\n",
       " 'IgnoreNeuroSymp',\n",
       " 'IgnoreInflamSymp',\n",
       " 'loss of taste',\n",
       " 'loss of smell',\n",
       " 'new confusion',\n",
       " 'unexplained rashes anywhere else',\n",
       " 'change in or loss of appetite',\n",
       " 'any tingling/numbness/swelling in hands or feet',\n",
       " 'loss of balance',\n",
       " 'joint or any other unexplained pain',\n",
       " 'fatigue',\n",
       " 'diarrhea',\n",
       " 'runny nose',\n",
       " 'chest pain',\n",
       " 'muscle aches',\n",
       " 'pinkeye or conjunctivitis',\n",
       " 'red or purple rash or lesions on your toes',\n",
       " 'nausea or vomiting',\n",
       " 'chills',\n",
       " 'shortness of breath',\n",
       " 'slurred speech',\n",
       " 'bluish lips or face',\n",
       " 'fever or feeling feverish',\n",
       " 'headaches',\n",
       " 'excessive sweating',\n",
       " 'difficulty breathing',\n",
       " 'unusual shivering or shaking',\n",
       " 'stomach or abdominal pain',\n",
       " 'sore throat',\n",
       " 'wheezing',\n",
       " 'cough',\n",
       " 'Age 30 and over',\n",
       " 'Age 18 to 29',\n",
       " 'Race_American Indian or Alaska Native',\n",
       " 'Race_Asian',\n",
       " 'Race_Black or African American',\n",
       " 'Race_Native Hawaiian or Other Pacific Islander',\n",
       " 'Race_White',\n",
       " 'Race_White,Asian,Native Hawaiian or Other Pacific Islander',\n",
       " 'Race_White,Black or African American',\n",
       " 'Race_White,Black or African American,American Indian or Alaska Native',\n",
       " 'Ethnicity_Hispanic Latino',\n",
       " 'Ethnicity_Non-Hispanic Latino',\n",
       " 'gender_Female',\n",
       " 'gender_Male']"
      ]
     },
     "execution_count": 19,
     "metadata": {},
     "output_type": "execute_result"
    }
   ],
   "source": [
    "cols"
   ]
  },
  {
   "cell_type": "code",
   "execution_count": 20,
   "id": "b258062c",
   "metadata": {},
   "outputs": [
    {
     "data": {
      "text/plain": [
       "47"
      ]
     },
     "execution_count": 20,
     "metadata": {},
     "output_type": "execute_result"
    }
   ],
   "source": [
    "len(cols)"
   ]
  },
  {
   "cell_type": "code",
   "execution_count": 21,
   "id": "ee7071c1",
   "metadata": {},
   "outputs": [],
   "source": [
    "for i in range(len(symptoms)):\n",
    "    symptoms[i] = symptoms[i].lower()"
   ]
  },
  {
   "cell_type": "code",
   "execution_count": 22,
   "id": "ae9438d2",
   "metadata": {},
   "outputs": [],
   "source": [
    "data = data.drop(columns=['symptomsfirst', 'symptoms_concat'])"
   ]
  },
  {
   "cell_type": "code",
   "execution_count": 23,
   "id": "2912ae4f",
   "metadata": {},
   "outputs": [],
   "source": [
    "data.columns = data.columns.str.replace(\"gender_Female\", \"Female\")\n",
    "data.columns = data.columns.str.replace(\"gender_Male\", \"Male\")\n",
    "data.columns = data.columns.str.replace(\"Ethnicity_Hispanic Latino\", \"Hispanic or Latino\")\n",
    "data.columns = data.columns.str.replace(\"Ethnicity_Non-Hispanic Latino\", \"Non Hispanic or Latino\")\n",
    "data.columns = data.columns.str.replace(\"Race_White\", \"Race White\")\n",
    "data.columns = data.columns.str.replace(\"Race_Black or African American\", \"Race Black or African American\")\n",
    "data.columns = data.columns.str.replace(\"Race_Native Hawaiian or Other Pacific Islander\", \"Race Native Hawaiian or Other Pacific Islander\")\n",
    "data.columns = data.columns.str.replace(\"Race_American Indian or Alaska Native\", \"Race American Indian or Alaska Native\")\n",
    "data.columns = data.columns.str.replace(\"Race_Asian\", \"Race Asian\")\n",
    "data.columns = data.columns.str.replace(\"Race White,Black or African American,American Indian or Alaska Native\", \"Mixed Race 1\")\n",
    "data.columns = data.columns.str.replace(\"Race White,Asian,Native Hawaiian or Other Pacific Islander\", \"Mixed Race 2\")\n",
    "data.columns = data.columns.str.replace(\"Race White,Black or African American\", \"Mixed Race 3\")"
   ]
  },
  {
   "cell_type": "code",
   "execution_count": 24,
   "id": "9eebccff",
   "metadata": {},
   "outputs": [],
   "source": [
    "data.columns = data.columns.str.replace(\"stomach or abdominal pain\", \"Abdominal pain\")\n",
    "data.columns = data.columns.str.replace(\"chest pain\", \"Chest pain\")\n",
    "data.columns = data.columns.str.replace(\"chills\", \"Chills\")\n",
    "data.columns = data.columns.str.replace(\"new confusion\", \"Confusion\")\n",
    "data.columns = data.columns.str.replace(\"cough\", \"Cough\")\n",
    "data.columns = data.columns.str.replace(\"diarrhea\", \"Diarrhea\")\n",
    "data.columns = data.columns.str.replace(\"excessive sweating\", \"Excessive sweating\")\n",
    "data.columns = data.columns.str.replace(\"fatigue\", \"Fatigue\")\n",
    "data.columns = data.columns.str.replace(\"fever or feeling feverish\", \"Fever\")\n",
    "data.columns = data.columns.str.replace(\"headaches\", \"Headaches\")\n",
    "data.columns = data.columns.str.replace(\"joint or any other unexplained pain\", \"Joint pain\")\n",
    "data.columns = data.columns.str.replace(\"change in or loss of appetite\", \"Loss of appetite\")\n",
    "data.columns = data.columns.str.replace(\"loss of balance\", \"Loss of balance\")\n",
    "data.columns = data.columns.str.replace(\"loss of smell\", \"Loss of smell\")\n",
    "data.columns = data.columns.str.replace(\"loss of taste\", \"Loss of taste\")\n",
    "data.columns = data.columns.str.replace(\"muscle aches\", \"Muscle aches\")\n",
    "data.columns = data.columns.str.replace(\"pinkeye or conjunctivitis\", \"Pinkeye\")\n",
    "data.columns = data.columns.str.replace(\"red or purple rash or lesions on your toes\", \"Red rash\")\n",
    "data.columns = data.columns.str.replace(\"runny nose\", \"Runny nose\")\n",
    "data.columns = data.columns.str.replace('unusual shivering or shaking', \"Shivering\")\n",
    "data.columns = data.columns.str.replace(\"shortness of breath\", \"Shortness of breath\")\n",
    "data.columns = data.columns.str.replace('difficulty breathing', 'Difficulty breathing')\n",
    "data.columns = data.columns.str.replace(\"sore throat\", \"Sore throat\")\n",
    "data.columns = data.columns.str.replace(\"unexplained rashes anywhere else\", \"Unexplained rash\")\n",
    "data.columns = data.columns.str.replace(\"nausea or vomiting\", \"Vomiting\")\n",
    "data.columns = data.columns.str.replace(\"wheezing\", \"Wheezing\")\n",
    "data.columns = data.columns.str.replace('bluish lips or face', 'Bluish lips or face')\n",
    "data.columns = data.columns.str.replace('any tingling/numbness/swelling in hands or feet', 'Numbness')\n",
    "data.columns = data.columns.str.replace('slurred speech', 'Slurred speech')\n",
    "data.columns = data.columns.str.replace(\"IgnoreNeuroSymp\", \"History of neurological symptoms\")\n",
    "data.columns = data.columns.str.replace(\"IgnoreGastroSymp\", \"History of gastrointestinal symptoms\")\n",
    "data.columns = data.columns.str.replace(\"IgnoreRespSymp\", \"History of respiratory symptoms\")\n",
    "data.columns = data.columns.str.replace(\"IgnoreInflamSymp\", \"History of inflammatory symptoms\")"
   ]
  },
  {
   "cell_type": "code",
   "execution_count": 25,
   "id": "db6e3c95",
   "metadata": {},
   "outputs": [],
   "source": [
    "data.columns  = [s.replace(' ','_') for s in data.columns]"
   ]
  },
  {
   "cell_type": "code",
   "execution_count": 26,
   "id": "2c903eb4",
   "metadata": {},
   "outputs": [
    {
     "data": {
      "text/plain": [
       "['TestPositive',\n",
       " 'History_of_respiratory_symptoms',\n",
       " 'History_of_gastrointestinal_symptoms',\n",
       " 'History_of_neurological_symptoms',\n",
       " 'History_of_inflammatory_symptoms',\n",
       " 'Loss_of_taste',\n",
       " 'Loss_of_smell',\n",
       " 'Confusion',\n",
       " 'Unexplained_rash',\n",
       " 'Loss_of_appetite',\n",
       " 'Numbness',\n",
       " 'Loss_of_balance',\n",
       " 'Joint_pain',\n",
       " 'Fatigue',\n",
       " 'Diarrhea',\n",
       " 'Runny_nose',\n",
       " 'Chest_pain',\n",
       " 'Muscle_aches',\n",
       " 'Pinkeye',\n",
       " 'Red_rash',\n",
       " 'Vomiting',\n",
       " 'Chills',\n",
       " 'Shortness_of_breath',\n",
       " 'Slurred_speech',\n",
       " 'Bluish_lips_or_face',\n",
       " 'Fever',\n",
       " 'Headaches',\n",
       " 'Excessive_sweating',\n",
       " 'Difficulty_breathing',\n",
       " 'Shivering',\n",
       " 'Abdominal_pain',\n",
       " 'Sore_throat',\n",
       " 'Wheezing',\n",
       " 'Cough',\n",
       " 'Age_30_and_over',\n",
       " 'Age_18_to_29',\n",
       " 'Race_American_Indian_or_Alaska_Native',\n",
       " 'Race_Asian',\n",
       " 'Race_Black_or_African_American',\n",
       " 'Race_Native_Hawaiian_or_Other_Pacific_Islander',\n",
       " 'Race_White',\n",
       " 'Mixed_Race_2',\n",
       " 'Mixed_Race_3',\n",
       " 'Mixed_Race_1',\n",
       " 'Hispanic_or_Latino',\n",
       " 'Non_Hispanic_or_Latino',\n",
       " 'Female',\n",
       " 'Male']"
      ]
     },
     "execution_count": 26,
     "metadata": {},
     "output_type": "execute_result"
    }
   ],
   "source": [
    "data.columns.tolist()"
   ]
  },
  {
   "cell_type": "code",
   "execution_count": 27,
   "id": "9794228e",
   "metadata": {},
   "outputs": [
    {
     "data": {
      "text/plain": [
       "(461, 48)"
      ]
     },
     "execution_count": 27,
     "metadata": {},
     "output_type": "execute_result"
    }
   ],
   "source": [
    "data.shape"
   ]
  },
  {
   "cell_type": "code",
   "execution_count": 28,
   "id": "fb137477",
   "metadata": {},
   "outputs": [],
   "source": [
    "data = data.reset_index()\n",
    "data = data.drop(columns=['index'])"
   ]
  },
  {
   "cell_type": "code",
   "execution_count": 29,
   "id": "6c3bdbeb",
   "metadata": {},
   "outputs": [],
   "source": [
    "data.to_csv(\"C:/Users/alexa/Downloads/preprocessed.csv\",index=False)"
   ]
  },
  {
   "cell_type": "code",
   "execution_count": 30,
   "id": "b814b8f3",
   "metadata": {},
   "outputs": [],
   "source": [
    "# read list of index for eaach data (30 list of ids for training and 30 list of ids for testing)\n",
    "ids = pd.read_csv(\"C:/Users/alexa/Downloads/preprocessed.csv\")"
   ]
  },
  {
   "cell_type": "code",
   "execution_count": 31,
   "id": "45315353",
   "metadata": {},
   "outputs": [],
   "source": [
    "# save the 30 training and testing data\n",
    "for i in ids.columns: \n",
    "    index = [x for x in ids[i].values.tolist() if math.isnan(x) == False]\n",
    "    d = data.loc[index]\n",
    "    d.to_csv(\"C:/Users/alexa/Downloads/preprocessed.csv\"+str(i), index=False)"
   ]
  },
  {
   "cell_type": "code",
   "execution_count": null,
   "id": "80e80612",
   "metadata": {},
   "outputs": [],
   "source": []
  }
 ],
 "metadata": {
  "kernelspec": {
   "display_name": "Python 3 (ipykernel)",
   "language": "python",
   "name": "python3"
  },
  "language_info": {
   "codemirror_mode": {
    "name": "ipython",
    "version": 3
   },
   "file_extension": ".py",
   "mimetype": "text/x-python",
   "name": "python",
   "nbconvert_exporter": "python",
   "pygments_lexer": "ipython3",
   "version": "3.9.7"
  }
 },
 "nbformat": 4,
 "nbformat_minor": 5
}
